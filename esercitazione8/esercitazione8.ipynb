{
 "cells": [
  {
   "cell_type": "markdown",
   "metadata": {},
   "source": [
    "# <span style=\"color:green\"> Numerical Simulation Laboratory (NSL) </span>\n",
    "## <span style=\"color:blue\">  Numerical exercises 8</span>\n"
   ]
  },
  {
   "cell_type": "markdown",
   "metadata": {},
   "source": [
    "During this exercise you will variationally optimize the ground state of a single quantum particle in a one dimensional (1D) space confined by the following external potential:\n",
    "$$\n",
    "V(x) = x^4 - \\frac{5}{2}x^2\n",
    "$$\n",
    "\n",
    "This 1D quantum model is not analytically solvable and should be attacked by numerical methods. In order to obtain an approximate wave function for the ground state, the Variational Monte Carlo method uses a trial wave function, parametrized by a set of variational parameters. An approximate model for the ground state wave function is the following trial wave function:\n",
    "$$\n",
    "\\Psi_T^{\\sigma,\\mu}(x) \\propto e^{-\\frac{(x-\\mu)^2}{2\\sigma^2}}+\n",
    "                               e^{-\\frac{(x+\\mu)^2}{2\\sigma^2}}\n",
    "$$\n",
    "\n",
    "$\\Psi_T^{\\sigma,\\mu}(x)$ depends on two variational parameters, $\\sigma$, which is the width of the two Gaussians under square root, and $\\mu$, which represents the distance from the origin of their average values."
   ]
  },
  {
   "cell_type": "markdown",
   "metadata": {},
   "source": [
    "### Exercise 08.1\n",
    "\n",
    "Write a C++ Variational Monte Carlo code for a single quantum particle in 1D which exploits the Metropolis algorithm to sample a trial wave function $|\\Psi_T(x)|^2$ using an uniform transition probability $T(x_{new}|x_{old})$ (Suggestion: as a starting point, you can use the code you have already developed for the Hydrogen atom or the Monte Carlo NVT code). Using data blocking, the code should be able to compute the expectation value for the Hamiltonian\n",
    "\n",
    "$$\n",
    "\\langle {\\hat H} \\rangle_T = \n",
    "\\frac{\\int dx \\Psi^*_T(x) {\\hat H} \\Psi_T(x)}\n",
    "{\\int dx |\\Psi_T(x)|^2} = \n",
    "\\int dx \\frac{|\\Psi_T(x)|^2}{\\int dx |\\Psi_T(x)|^2} \\frac{{\\hat H} \\Psi_T(x)}{\\Psi_T(x)}\n",
    "$$\n",
    "\n",
    "which can be used to find the parameters that minimize this quantity."
   ]
  },
  {
   "cell_type": "code",
   "execution_count": 2,
   "metadata": {},
   "outputs": [],
   "source": [
    "import numpy as np\n",
    "import matplotlib.pyplot as plt\n",
    "import os, time"
   ]
  },
  {
   "cell_type": "code",
   "execution_count": 3,
   "metadata": {},
   "outputs": [
    {
     "data": {
      "text/plain": [
       "0"
      ]
     },
     "execution_count": 3,
     "metadata": {},
     "output_type": "execute_result"
    }
   ],
   "source": [
    "os.system(\"make clean\")\n",
    "os.system(\"make\")\n",
    "os.system(\"./clean.sh\")"
   ]
  },
  {
   "cell_type": "code",
   "execution_count": 14,
   "metadata": {},
   "outputs": [
    {
     "name": "stdout",
     "output_type": "stream",
     "text": [
      "Run #1 of 25, mu=0.4, sigma=0.5\n",
      "Run #2 of 25, mu=0.4, sigma=0.625\n",
      "Run #3 of 25, mu=0.4, sigma=0.75\n",
      "Run #4 of 25, mu=0.4, sigma=0.875\n",
      "Run #5 of 25, mu=0.4, sigma=1.0\n",
      "Run #6 of 25, mu=0.55, sigma=0.5\n",
      "Run #7 of 25, mu=0.55, sigma=0.625\n",
      "Run #8 of 25, mu=0.55, sigma=0.75\n",
      "Run #9 of 25, mu=0.55, sigma=0.875\n",
      "Run #10 of 25, mu=0.55, sigma=1.0\n",
      "Run #11 of 25, mu=0.7, sigma=0.5\n",
      "Run #12 of 25, mu=0.7, sigma=0.625\n",
      "Run #13 of 25, mu=0.7, sigma=0.75\n",
      "Run #14 of 25, mu=0.7, sigma=0.875\n",
      "Run #15 of 25, mu=0.7, sigma=1.0\n",
      "Run #16 of 25, mu=0.85, sigma=0.5\n",
      "Run #17 of 25, mu=0.85, sigma=0.625\n",
      "Run #18 of 25, mu=0.85, sigma=0.75\n",
      "Run #19 of 25, mu=0.85, sigma=0.875\n",
      "Run #20 of 25, mu=0.85, sigma=1.0\n",
      "Run #21 of 25, mu=1.0, sigma=0.5\n",
      "Run #22 of 25, mu=1.0, sigma=0.625\n",
      "Run #23 of 25, mu=1.0, sigma=0.75\n",
      "Run #24 of 25, mu=1.0, sigma=0.875\n",
      "Run #25 of 25, mu=1.0, sigma=1.0\n",
      "Execution time: 67.99636507034302s\n"
     ]
    }
   ],
   "source": [
    "start = time.time()\n",
    "\n",
    "mus = np.linspace(0.4,1,5)\n",
    "sigmas = np.linspace(0.5,1,5)\n",
    "\n",
    "counter = 1\n",
    "total_runs = mus.size*sigmas.size\n",
    "\n",
    "energy = []\n",
    "for mu in mus:\n",
    "    energ = []\n",
    "    for sigma in sigmas:\n",
    "        print(\"Run #\" + str(counter) + \" of \" + str(total_runs) \n",
    "              + \", mu=\" +  str(mu) + \", sigma=\" + str(sigma))\n",
    "        \n",
    "        command = \"./esercizio8.exe \" + str(mu) + \" \" + str(sigma)\n",
    "        \n",
    "        os.system(command)\n",
    "        \n",
    "        block, inst, ave, err = np.loadtxt(\"output.ham.0\", unpack=True)\n",
    "        \n",
    "        e = ave[-1]\n",
    "        \n",
    "        os.system(\"./clean.sh\")\n",
    "        \n",
    "        energ.append(e)\n",
    "        \n",
    "        counter+= 1\n",
    "                     \n",
    "    energy.append(energ)\n",
    "                     \n",
    "energy = np.array(energy)\n",
    "        \n",
    "        \n",
    "        \n",
    "end = time.time()\n",
    "\n",
    "print(\"Execution time: \" + str(end-start) + \"s\")"
   ]
  },
  {
   "cell_type": "code",
   "execution_count": 15,
   "metadata": {},
   "outputs": [
    {
     "data": {
      "text/plain": [
       "array([[-1.2399   , -0.956696 , -0.714855 , -0.444302 , -0.0897497],\n",
       "       [-1.12641  , -0.949175 , -0.682015 , -0.362602 ,  0.0450445],\n",
       "       [-0.811322 , -0.791065 , -0.574682 , -0.215364 ,  0.247106 ],\n",
       "       [-0.594469 , -0.4874   , -0.311839 ,  0.0124391,  0.528426 ],\n",
       "       [-0.410533 , -0.178283 ,  0.117432 ,  0.479154 ,  0.89748  ]])"
      ]
     },
     "execution_count": 15,
     "metadata": {},
     "output_type": "execute_result"
    },
    {
     "data": {
      "image/png": "[encoded data removed]",
      "text/plain": [
       "<Figure size 432x288 with 2 Axes>"
      ]
     },
     "metadata": {
      "needs_background": "light"
     },
     "output_type": "display_data"
    }
   ],
   "source": [
    "plt.contour(sigmas, mus, energy)\n",
    "plt.xlabel(\"$\\sigma$\")\n",
    "plt.ylabel(\"$\\mu$\")\n",
    "plt.colorbar()\n",
    "\n",
    "#mu = 1.05, sigma = 1.3\n",
    "\n",
    "energy"
   ]
  },
  {
   "cell_type": "code",
   "execution_count": 16,
   "metadata": {
    "scrolled": true
   },
   "outputs": [
    {
     "ename": "OSError",
     "evalue": "output.inst_pos.0 not found.",
     "output_type": "error",
     "traceback": [
      "\u001b[0;31m---------------------------------------------------------------------------\u001b[0m",
      "\u001b[0;31mOSError\u001b[0m                                   Traceback (most recent call last)",
      "\u001b[0;32m<ipython-input-16-96fdd5972fb1>\u001b[0m in \u001b[0;36m<module>\u001b[0;34m\u001b[0m\n\u001b[0;32m----> 1\u001b[0;31m \u001b[0mmcstep\u001b[0m\u001b[0;34m,\u001b[0m \u001b[0mpos\u001b[0m \u001b[0;34m=\u001b[0m \u001b[0mnp\u001b[0m\u001b[0;34m.\u001b[0m\u001b[0mloadtxt\u001b[0m\u001b[0;34m(\u001b[0m\u001b[0;34m\"output.inst_pos.0\"\u001b[0m\u001b[0;34m,\u001b[0m \u001b[0munpack\u001b[0m\u001b[0;34m=\u001b[0m\u001b[0;32mTrue\u001b[0m\u001b[0;34m)\u001b[0m\u001b[0;34m\u001b[0m\u001b[0;34m\u001b[0m\u001b[0m\n\u001b[0m\u001b[1;32m      2\u001b[0m \u001b[0mplt\u001b[0m\u001b[0;34m.\u001b[0m\u001b[0mhist\u001b[0m\u001b[0;34m(\u001b[0m\u001b[0mpos\u001b[0m\u001b[0;34m,\u001b[0m \u001b[0mdensity\u001b[0m \u001b[0;34m=\u001b[0m \u001b[0;32mTrue\u001b[0m\u001b[0;34m,\u001b[0m \u001b[0mbins\u001b[0m \u001b[0;34m=\u001b[0m \u001b[0;36m100\u001b[0m\u001b[0;34m)\u001b[0m\u001b[0;34m\u001b[0m\u001b[0;34m\u001b[0m\u001b[0m\n\u001b[1;32m      3\u001b[0m \u001b[0mplt\u001b[0m\u001b[0;34m.\u001b[0m\u001b[0mshow\u001b[0m\u001b[0;34m(\u001b[0m\u001b[0;34m)\u001b[0m\u001b[0;34m\u001b[0m\u001b[0;34m\u001b[0m\u001b[0m\n\u001b[1;32m      4\u001b[0m \u001b[0mpos\u001b[0m\u001b[0;34m.\u001b[0m\u001b[0msize\u001b[0m\u001b[0;34m\u001b[0m\u001b[0;34m\u001b[0m\u001b[0m\n",
      "\u001b[0;32m/usr/local/lib/python3.6/dist-packages/numpy/lib/npyio.py\u001b[0m in \u001b[0;36mloadtxt\u001b[0;34m(fname, dtype, comments, delimiter, converters, skiprows, usecols, unpack, ndmin, encoding, max_rows)\u001b[0m\n\u001b[1;32m    953\u001b[0m             \u001b[0mfname\u001b[0m \u001b[0;34m=\u001b[0m \u001b[0mos_fspath\u001b[0m\u001b[0;34m(\u001b[0m\u001b[0mfname\u001b[0m\u001b[0;34m)\u001b[0m\u001b[0;34m\u001b[0m\u001b[0;34m\u001b[0m\u001b[0m\n\u001b[1;32m    954\u001b[0m         \u001b[0;32mif\u001b[0m \u001b[0m_is_string_like\u001b[0m\u001b[0;34m(\u001b[0m\u001b[0mfname\u001b[0m\u001b[0;34m)\u001b[0m\u001b[0;34m:\u001b[0m\u001b[0;34m\u001b[0m\u001b[0;34m\u001b[0m\u001b[0m\n\u001b[0;32m--> 955\u001b[0;31m             \u001b[0mfh\u001b[0m \u001b[0;34m=\u001b[0m \u001b[0mnp\u001b[0m\u001b[0;34m.\u001b[0m\u001b[0mlib\u001b[0m\u001b[0;34m.\u001b[0m\u001b[0m_datasource\u001b[0m\u001b[0;34m.\u001b[0m\u001b[0mopen\u001b[0m\u001b[0;34m(\u001b[0m\u001b[0mfname\u001b[0m\u001b[0;34m,\u001b[0m \u001b[0;34m'rt'\u001b[0m\u001b[0;34m,\u001b[0m \u001b[0mencoding\u001b[0m\u001b[0;34m=\u001b[0m\u001b[0mencoding\u001b[0m\u001b[0;34m)\u001b[0m\u001b[0;34m\u001b[0m\u001b[0;34m\u001b[0m\u001b[0m\n\u001b[0m\u001b[1;32m    956\u001b[0m             \u001b[0mfencoding\u001b[0m \u001b[0;34m=\u001b[0m \u001b[0mgetattr\u001b[0m\u001b[0;34m(\u001b[0m\u001b[0mfh\u001b[0m\u001b[0;34m,\u001b[0m \u001b[0;34m'encoding'\u001b[0m\u001b[0;34m,\u001b[0m \u001b[0;34m'latin1'\u001b[0m\u001b[0;34m)\u001b[0m\u001b[0;34m\u001b[0m\u001b[0;34m\u001b[0m\u001b[0m\n\u001b[1;32m    957\u001b[0m             \u001b[0mfh\u001b[0m \u001b[0;34m=\u001b[0m \u001b[0miter\u001b[0m\u001b[0;34m(\u001b[0m\u001b[0mfh\u001b[0m\u001b[0;34m)\u001b[0m\u001b[0;34m\u001b[0m\u001b[0;34m\u001b[0m\u001b[0m\n",
      "\u001b[0;32m/usr/local/lib/python3.6/dist-packages/numpy/lib/_datasource.py\u001b[0m in \u001b[0;36mopen\u001b[0;34m(path, mode, destpath, encoding, newline)\u001b[0m\n\u001b[1;32m    264\u001b[0m \u001b[0;34m\u001b[0m\u001b[0m\n\u001b[1;32m    265\u001b[0m     \u001b[0mds\u001b[0m \u001b[0;34m=\u001b[0m \u001b[0mDataSource\u001b[0m\u001b[0;34m(\u001b[0m\u001b[0mdestpath\u001b[0m\u001b[0;34m)\u001b[0m\u001b[0;34m\u001b[0m\u001b[0;34m\u001b[0m\u001b[0m\n\u001b[0;32m--> 266\u001b[0;31m     \u001b[0;32mreturn\u001b[0m \u001b[0mds\u001b[0m\u001b[0;34m.\u001b[0m\u001b[0mopen\u001b[0m\u001b[0;34m(\u001b[0m\u001b[0mpath\u001b[0m\u001b[0;34m,\u001b[0m \u001b[0mmode\u001b[0m\u001b[0;34m,\u001b[0m \u001b[0mencoding\u001b[0m\u001b[0;34m=\u001b[0m\u001b[0mencoding\u001b[0m\u001b[0;34m,\u001b[0m \u001b[0mnewline\u001b[0m\u001b[0;34m=\u001b[0m\u001b[0mnewline\u001b[0m\u001b[0;34m)\u001b[0m\u001b[0;34m\u001b[0m\u001b[0;34m\u001b[0m\u001b[0m\n\u001b[0m\u001b[1;32m    267\u001b[0m \u001b[0;34m\u001b[0m\u001b[0m\n\u001b[1;32m    268\u001b[0m \u001b[0;34m\u001b[0m\u001b[0m\n",
      "\u001b[0;32m/usr/local/lib/python3.6/dist-packages/numpy/lib/_datasource.py\u001b[0m in \u001b[0;36mopen\u001b[0;34m(self, path, mode, encoding, newline)\u001b[0m\n\u001b[1;32m    622\u001b[0m                                       encoding=encoding, newline=newline)\n\u001b[1;32m    623\u001b[0m         \u001b[0;32melse\u001b[0m\u001b[0;34m:\u001b[0m\u001b[0;34m\u001b[0m\u001b[0;34m\u001b[0m\u001b[0m\n\u001b[0;32m--> 624\u001b[0;31m             \u001b[0;32mraise\u001b[0m \u001b[0mIOError\u001b[0m\u001b[0;34m(\u001b[0m\u001b[0;34m\"%s not found.\"\u001b[0m \u001b[0;34m%\u001b[0m \u001b[0mpath\u001b[0m\u001b[0;34m)\u001b[0m\u001b[0;34m\u001b[0m\u001b[0;34m\u001b[0m\u001b[0m\n\u001b[0m\u001b[1;32m    625\u001b[0m \u001b[0;34m\u001b[0m\u001b[0m\n\u001b[1;32m    626\u001b[0m \u001b[0;34m\u001b[0m\u001b[0m\n",
      "\u001b[0;31mOSError\u001b[0m: output.inst_pos.0 not found."
     ]
    }
   ],
   "source": [
    "mcstep, pos = np.loadtxt(\"output.inst_pos.0\", unpack=True)\n",
    "plt.hist(pos, density = True, bins = 100)\n",
    "plt.show()\n",
    "pos.size"
   ]
  },
  {
   "cell_type": "code",
   "execution_count": 17,
   "metadata": {},
   "outputs": [
    {
     "ename": "OSError",
     "evalue": "output.ham.0 not found.",
     "output_type": "error",
     "traceback": [
      "\u001b[0;31m---------------------------------------------------------------------------\u001b[0m",
      "\u001b[0;31mOSError\u001b[0m                                   Traceback (most recent call last)",
      "\u001b[0;32m<ipython-input-17-d2cdac7f0e51>\u001b[0m in \u001b[0;36m<module>\u001b[0;34m\u001b[0m\n\u001b[0;32m----> 1\u001b[0;31m \u001b[0mblock\u001b[0m\u001b[0;34m,\u001b[0m \u001b[0minst\u001b[0m\u001b[0;34m,\u001b[0m \u001b[0mave\u001b[0m\u001b[0;34m,\u001b[0m \u001b[0merr\u001b[0m \u001b[0;34m=\u001b[0m \u001b[0mnp\u001b[0m\u001b[0;34m.\u001b[0m\u001b[0mloadtxt\u001b[0m\u001b[0;34m(\u001b[0m\u001b[0;34m\"output.ham.0\"\u001b[0m\u001b[0;34m,\u001b[0m \u001b[0munpack\u001b[0m\u001b[0;34m=\u001b[0m\u001b[0;32mTrue\u001b[0m\u001b[0;34m)\u001b[0m\u001b[0;34m\u001b[0m\u001b[0;34m\u001b[0m\u001b[0m\n\u001b[0m\u001b[1;32m      2\u001b[0m \u001b[0mplt\u001b[0m\u001b[0;34m.\u001b[0m\u001b[0merrorbar\u001b[0m\u001b[0;34m(\u001b[0m\u001b[0mblock\u001b[0m\u001b[0;34m,\u001b[0m \u001b[0mave\u001b[0m\u001b[0;34m,\u001b[0m \u001b[0myerr\u001b[0m \u001b[0;34m=\u001b[0m \u001b[0merr\u001b[0m\u001b[0;34m)\u001b[0m\u001b[0;34m\u001b[0m\u001b[0;34m\u001b[0m\u001b[0m\n\u001b[1;32m      3\u001b[0m \u001b[0mplt\u001b[0m\u001b[0;34m.\u001b[0m\u001b[0mshow\u001b[0m\u001b[0;34m(\u001b[0m\u001b[0;34m)\u001b[0m\u001b[0;34m\u001b[0m\u001b[0;34m\u001b[0m\u001b[0m\n",
      "\u001b[0;32m/usr/local/lib/python3.6/dist-packages/numpy/lib/npyio.py\u001b[0m in \u001b[0;36mloadtxt\u001b[0;34m(fname, dtype, comments, delimiter, converters, skiprows, usecols, unpack, ndmin, encoding, max_rows)\u001b[0m\n\u001b[1;32m    953\u001b[0m             \u001b[0mfname\u001b[0m \u001b[0;34m=\u001b[0m \u001b[0mos_fspath\u001b[0m\u001b[0;34m(\u001b[0m\u001b[0mfname\u001b[0m\u001b[0;34m)\u001b[0m\u001b[0;34m\u001b[0m\u001b[0;34m\u001b[0m\u001b[0m\n\u001b[1;32m    954\u001b[0m         \u001b[0;32mif\u001b[0m \u001b[0m_is_string_like\u001b[0m\u001b[0;34m(\u001b[0m\u001b[0mfname\u001b[0m\u001b[0;34m)\u001b[0m\u001b[0;34m:\u001b[0m\u001b[0;34m\u001b[0m\u001b[0;34m\u001b[0m\u001b[0m\n\u001b[0;32m--> 955\u001b[0;31m             \u001b[0mfh\u001b[0m \u001b[0;34m=\u001b[0m \u001b[0mnp\u001b[0m\u001b[0;34m.\u001b[0m\u001b[0mlib\u001b[0m\u001b[0;34m.\u001b[0m\u001b[0m_datasource\u001b[0m\u001b[0;34m.\u001b[0m\u001b[0mopen\u001b[0m\u001b[0;34m(\u001b[0m\u001b[0mfname\u001b[0m\u001b[0;34m,\u001b[0m \u001b[0;34m'rt'\u001b[0m\u001b[0;34m,\u001b[0m \u001b[0mencoding\u001b[0m\u001b[0;34m=\u001b[0m\u001b[0mencoding\u001b[0m\u001b[0;34m)\u001b[0m\u001b[0;34m\u001b[0m\u001b[0;34m\u001b[0m\u001b[0m\n\u001b[0m\u001b[1;32m    956\u001b[0m             \u001b[0mfencoding\u001b[0m \u001b[0;34m=\u001b[0m \u001b[0mgetattr\u001b[0m\u001b[0;34m(\u001b[0m\u001b[0mfh\u001b[0m\u001b[0;34m,\u001b[0m \u001b[0;34m'encoding'\u001b[0m\u001b[0;34m,\u001b[0m \u001b[0;34m'latin1'\u001b[0m\u001b[0;34m)\u001b[0m\u001b[0;34m\u001b[0m\u001b[0;34m\u001b[0m\u001b[0m\n\u001b[1;32m    957\u001b[0m             \u001b[0mfh\u001b[0m \u001b[0;34m=\u001b[0m \u001b[0miter\u001b[0m\u001b[0;34m(\u001b[0m\u001b[0mfh\u001b[0m\u001b[0;34m)\u001b[0m\u001b[0;34m\u001b[0m\u001b[0;34m\u001b[0m\u001b[0m\n",
      "\u001b[0;32m/usr/local/lib/python3.6/dist-packages/numpy/lib/_datasource.py\u001b[0m in \u001b[0;36mopen\u001b[0;34m(path, mode, destpath, encoding, newline)\u001b[0m\n\u001b[1;32m    264\u001b[0m \u001b[0;34m\u001b[0m\u001b[0m\n\u001b[1;32m    265\u001b[0m     \u001b[0mds\u001b[0m \u001b[0;34m=\u001b[0m \u001b[0mDataSource\u001b[0m\u001b[0;34m(\u001b[0m\u001b[0mdestpath\u001b[0m\u001b[0;34m)\u001b[0m\u001b[0;34m\u001b[0m\u001b[0;34m\u001b[0m\u001b[0m\n\u001b[0;32m--> 266\u001b[0;31m     \u001b[0;32mreturn\u001b[0m \u001b[0mds\u001b[0m\u001b[0;34m.\u001b[0m\u001b[0mopen\u001b[0m\u001b[0;34m(\u001b[0m\u001b[0mpath\u001b[0m\u001b[0;34m,\u001b[0m \u001b[0mmode\u001b[0m\u001b[0;34m,\u001b[0m \u001b[0mencoding\u001b[0m\u001b[0;34m=\u001b[0m\u001b[0mencoding\u001b[0m\u001b[0;34m,\u001b[0m \u001b[0mnewline\u001b[0m\u001b[0;34m=\u001b[0m\u001b[0mnewline\u001b[0m\u001b[0;34m)\u001b[0m\u001b[0;34m\u001b[0m\u001b[0;34m\u001b[0m\u001b[0m\n\u001b[0m\u001b[1;32m    267\u001b[0m \u001b[0;34m\u001b[0m\u001b[0m\n\u001b[1;32m    268\u001b[0m \u001b[0;34m\u001b[0m\u001b[0m\n",
      "\u001b[0;32m/usr/local/lib/python3.6/dist-packages/numpy/lib/_datasource.py\u001b[0m in \u001b[0;36mopen\u001b[0;34m(self, path, mode, encoding, newline)\u001b[0m\n\u001b[1;32m    622\u001b[0m                                       encoding=encoding, newline=newline)\n\u001b[1;32m    623\u001b[0m         \u001b[0;32melse\u001b[0m\u001b[0;34m:\u001b[0m\u001b[0;34m\u001b[0m\u001b[0;34m\u001b[0m\u001b[0m\n\u001b[0;32m--> 624\u001b[0;31m             \u001b[0;32mraise\u001b[0m \u001b[0mIOError\u001b[0m\u001b[0;34m(\u001b[0m\u001b[0;34m\"%s not found.\"\u001b[0m \u001b[0;34m%\u001b[0m \u001b[0mpath\u001b[0m\u001b[0;34m)\u001b[0m\u001b[0;34m\u001b[0m\u001b[0;34m\u001b[0m\u001b[0m\n\u001b[0m\u001b[1;32m    625\u001b[0m \u001b[0;34m\u001b[0m\u001b[0m\n\u001b[1;32m    626\u001b[0m \u001b[0;34m\u001b[0m\u001b[0m\n",
      "\u001b[0;31mOSError\u001b[0m: output.ham.0 not found."
     ]
    }
   ],
   "source": [
    "block, inst, ave, err = np.loadtxt(\"output.ham.0\", unpack=True)\n",
    "plt.errorbar(block, ave, yerr = err)\n",
    "plt.show()"
   ]
  },
  {
   "cell_type": "markdown",
   "metadata": {},
   "source": [
    "### Exercise 08.2\n",
    "\n",
    "Use your Variational Monte Carlo code to find the parameters $\\sigma$ and $\\mu$ which minimize $\\langle {\\hat H} \\rangle_T$:\n",
    "\n",
    "$$\n",
    "\\langle {\\hat H} \\rangle_T = \\frac{\\langle \\Psi_T^{\\sigma,\\mu}| {\\hat H} | \\Psi_T^{\\sigma,\\mu} \\rangle}\n",
    "{\\langle \\Psi_T^{\\sigma,\\mu} | \\Psi_T^{\\sigma,\\mu} \\rangle} \\ge E_0 =\n",
    "\\frac{\\langle \\Psi_0| {\\hat H} | \\Psi_0 \\rangle}\n",
    "{\\langle \\Psi_0 | \\Psi_0 \\rangle}\n",
    "$$"
   ]
  },
  {
   "cell_type": "markdown",
   "metadata": {},
   "source": [
    "- As usual, <span style=\"color:red\">show a picture of the estimation of $\\langle {\\hat H} \\rangle_T$ </span> and its statistical uncertainty as a function of the number of blocks/MC steps for the set of parameters which minimize $\\langle {\\hat H} \\rangle_T$\n",
    "- <span style=\"color:red\">show also a picture **of the sampled** $|\\Psi_T(x)|^2$</span> by filling a histogram with the sampled configurations, moreover compare it with the analytic curve of $|\\Psi_T(x)|^2$ and with the numerical solution obtained by transforming the Schrodinger equation into a matrix equation (see below)."
   ]
  },
  {
   "cell_type": "code",
   "execution_count": null,
   "metadata": {},
   "outputs": [],
   "source": []
  },
  {
   "cell_type": "markdown",
   "metadata": {},
   "source": [
    "### Exercise 08.3\n",
    "\n",
    "Use the PIMC/PIGS code we have provided to study the same 1D quantum system. Use the PIGS algorithm ($T=0$) to project\n",
    "- a constant trial wave function, $\\Psi_T(x)=1$\n",
    "- using $\\Psi_T(x) = \\Psi_T^{\\sigma,\\mu}(x)$ with the variational parameters you have optimized.\n",
    "\n",
    "<span style=\"color:red\">Compare your results with those obtained with your VMC code</span>. By using $\\Psi_T^{\\sigma,\\mu}(x)$, how much can you reduce the imaginary time propagation with respect to the first case?\n",
    "\n",
    "<span style=\"color:red\">Finally, use the PIMC algorithm ($T>0$) to observe how the histogram with the sampled configurations changes by increasing the temperature.</span>"
   ]
  },
  {
   "cell_type": "code",
   "execution_count": null,
   "metadata": {},
   "outputs": [],
   "source": []
  },
  {
   "cell_type": "markdown",
   "metadata": {},
   "source": [
    "### Supplementary material\n",
    "\n",
    "How can we describe a wave function as a vector? We set up a lattice of discrete points, spaced by a constant distance $dx$, and record the value of the function at each lattice point. In this way the wave function, $\\Psi(x)$ become a vector:\n",
    "\n",
    "$$\n",
    "\\Psi(x) \\to \\left[ \\Psi(x_1), \\Psi(x_2), ..., \\Psi(x_N) \\right] = \n",
    "\\left[ \\Psi_1, \\Psi_2, ..., \\Psi_N \\right]\n",
    "$$\n",
    "\n",
    "The time independent Schrodinger equation \n",
    "\n",
    "$$\n",
    "{\\hat H} \\Psi(x) = \\left( -\\frac{\\hbar^2}{2m}\\frac{\\partial^2}{\\partial x^2} + V(x) \\right) \\Psi(x) = E \\Psi(x)\n",
    "$$\n",
    "\n",
    "can be written in matrix form. But how do we write the second derivative at a particular point? Let's start with the first derivatives:\n",
    "$$\n",
    "\\frac{\\partial}{\\partial x} \\Psi\\left(x=(x_i+x_{i+1})/2\\right) \\simeq \\frac{\\Psi_{i+1}-\\Psi_{i}}{dx}\\\\\n",
    "\\frac{\\partial}{\\partial x} \\Psi\\left(x=(x_i+x_{i-1})/2\\right) \\simeq \\frac{\\Psi_{i}-\\Psi_{i-1}}{dx}\n",
    "$$\n",
    "\n",
    "Thus, we can discretize the second derivative in the following way:\n",
    "$$\n",
    "\\frac{\\partial^2}{\\partial x^2} \\Psi(x=x_i) =\n",
    "\\frac{\\frac{\\partial}{\\partial x} \\Psi\\left(x=(x_i+x_{i+1})/2\\right) - \\frac{\\partial}{\\partial x} \\Psi\\left(x=(x_i+x_{i-1})/2\\right)}{dx} =\n",
    "\\frac{\\Psi_{i+1}-2\\Psi_{i}+\\Psi_{i-1}}{dx^2}\n",
    "$$\n",
    "\n",
    "We finally obtain:\n",
    "\n",
    "$$\n",
    "\\begin{bmatrix}\n",
    " \\frac{\\hbar^2}{m\\,dx^2}+V(x_1)& -\\frac{\\hbar^2}{2m\\,dx^2} & 0 & \\dots  & 0 \\\\\n",
    "-\\frac{\\hbar^2}{2m\\,dx^2} & \\frac{\\hbar^2}{m\\,dx^2}+V(x_2) & -\\frac{\\hbar^2}{2m\\,dx^2} & \\dots  & 0 \\\\\n",
    " 0                        & -\\frac{\\hbar^2}{2m\\,dx^2} & \\frac{\\hbar^2}{m\\,dx^2}+V(x_3) & \\dots  & 0 \\\\\n",
    " \\vdots                   & \\vdots                    & \\vdots & \\ddots & \\vdots \\\\\n",
    " 0                    & 0                & 0 & \\dots  & \\frac{\\hbar^2}{m\\,dx^2}+V(x_N)\n",
    "\\end{bmatrix}\n",
    "\\begin{bmatrix}\n",
    "\\Psi_{1} \\\\\n",
    "\\Psi_{2} \\\\\n",
    "\\vdots \\\\\n",
    "\\Psi_{N}\n",
    "\\end{bmatrix}\n",
    "= E\n",
    "\\begin{bmatrix}\n",
    "\\Psi_{1} \\\\\n",
    "\\Psi_{2} \\\\\n",
    "\\vdots \\\\\n",
    "\\Psi_{N}\n",
    "\\end{bmatrix}\n",
    "$$\n",
    "\n",
    "To solve the time independent Schrodinger equation we therefore have to find eigenstates and eigenvalues of the matrix just obtained."
   ]
  },
  {
   "cell_type": "code",
   "execution_count": 11,
   "metadata": {},
   "outputs": [
    {
     "name": "stdout",
     "output_type": "stream",
     "text": [
      "Ground state energy:  -0.46046587969271563\n",
      "1st excited state energy:  0.09742471331760998\n",
      "2nd excited state energy:  1.971733134393021\n"
     ]
    },
    {
     "data": {
      "image/png": "[encoded data removed]",
      "text/plain": [
       "<Figure size 576x360 with 1 Axes>"
      ]
     },
     "metadata": {
      "needs_background": "light"
     },
     "output_type": "display_data"
    }
   ],
   "source": [
    "import numpy as np\n",
    "import matplotlib.pyplot as plt\n",
    "\n",
    "def Vpot(x):\n",
    "    return (x**2 - 2.5)*x**2\n",
    "    #return 0.5*x**2\n",
    "\n",
    "hbar = 1\n",
    "m = 1\n",
    "a = 10\n",
    "N = 1000 # number of iterations\n",
    "\n",
    "# Step sizes\n",
    "x = np.linspace(-a/2, a/2, N)\n",
    "dx = x[1] - x[0] # the step size\n",
    "V = Vpot(x)\n",
    "\n",
    "# The central differences method: f\" = (f_1 - 2*f_0 + f_-1)/dx^2\n",
    "\n",
    "CDiff = np.diag(np.ones(N-1),-1)-2*np.diag(np.ones(N),0)+np.diag(np.ones(N-1),1)\n",
    "# np.diag(np.array,k) construct a \"diagonal\" matrix using the np.array\n",
    "# The default is k=0. Use k>0 for diagonals above the main diagonal, \n",
    "# and k<0 for diagonals below the main diagonal\n",
    "\n",
    "# Hamiltonian matrix\n",
    "H = (-(hbar**2)*CDiff)/(2*m*dx**2) + np.diag(V)\n",
    "\n",
    "# Compute eigenvectors and their eigenvalues\n",
    "E,psi = np.linalg.eigh(H)\n",
    "\n",
    "# Take the transpose & normalize\n",
    "psi = np.transpose(psi)\n",
    "psi = psi/np.sqrt(dx)\n",
    "\n",
    "print(\"Ground state energy: \", E[0])\n",
    "print(\"1st excited state energy: \", E[1])\n",
    "print(\"2nd excited state energy: \", E[2])\n",
    "\n",
    "# Plot a few things\n",
    "plt.figure(figsize=(8,5))\n",
    "scale = 1\n",
    "plt.plot(x, scale*V, color=\"Black\", label=\"Potential\") # plot the potential\n",
    "plt.plot(x,E[0] + (psi[0])**2)\n",
    "plt.plot(x,E[1] + (psi[1])**2)\n",
    "plt.plot(x,E[2] + (psi[2])**2)\n",
    "plt.title(\"Potential & Probabilities\")\n",
    "plt.xlabel(\"x\")\n",
    "plt.grid(True)\n",
    "plt.xlim((-3,3))\n",
    "plt.ylim((-2,3.5))\n",
    "plt.show();"
   ]
  },
  {
   "cell_type": "code",
   "execution_count": null,
   "metadata": {},
   "outputs": [],
   "source": []
  }
 ],
 "metadata": {
  "kernelspec": {
   "display_name": "Python 3",
   "language": "python",
   "name": "python3"
  },
  "language_info": {
   "codemirror_mode": {
    "name": "ipython",
    "version": 3
   },
   "file_extension": ".py",
   "mimetype": "text/x-python",
   "name": "python",
   "nbconvert_exporter": "python",
   "pygments_lexer": "ipython3",
   "version": "3.6.8"
  }
 },
 "nbformat": 4,
 "nbformat_minor": 2
}
